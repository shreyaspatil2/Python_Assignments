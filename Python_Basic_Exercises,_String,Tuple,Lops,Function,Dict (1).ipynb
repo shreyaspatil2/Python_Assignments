{
 "cells": [
  {
   "cell_type": "markdown",
   "metadata": {
    "id": "LQ1RiVje-Wvj"
   },
   "source": [
    "# **String**\n",
    "\n",
    "1. Write A program to return entire lowercase of a string.\n",
    "\n",
    "  word = IANALYST INFOTECH \n"
   ]
  },
  {
   "cell_type": "code",
   "execution_count": 1,
   "metadata": {
    "id": "2ANAzQn8-FO5"
   },
   "outputs": [
    {
     "data": {
      "text/plain": [
       "'ianalyst infotech'"
      ]
     },
     "execution_count": 1,
     "metadata": {},
     "output_type": "execute_result"
    }
   ],
   "source": [
    "word = \"IANALYST INFOTECH\"\n",
    "word.lower()"
   ]
  },
  {
   "cell_type": "markdown",
   "metadata": {
    "id": "68tXKfil-Vx6"
   },
   "source": [
    "2. Count athe number of a specific character in 'a' string.\n",
    "\n",
    "  word = ianalyst "
   ]
  },
  {
   "cell_type": "code",
   "execution_count": 34,
   "metadata": {
    "id": "yE3j0yL_Ppbw"
   },
   "outputs": [
    {
     "name": "stdout",
     "output_type": "stream",
     "text": [
      "2\n"
     ]
    }
   ],
   "source": [
    "word = \"ianalyst\"\n",
    "c=0\n",
    "for i in word:\n",
    "    if i == \"a\":\n",
    "        c = c+1\n",
    "print(c)"
   ]
  },
  {
   "cell_type": "markdown",
   "metadata": {
    "id": "Jhh4Mh9B_gqs"
   },
   "source": [
    "3. Write a Program to count total number of characters in a string.\n",
    "\n",
    "  Word =  \"iAnalyst Infotech\""
   ]
  },
  {
   "cell_type": "code",
   "execution_count": 4,
   "metadata": {
    "id": "Ccvrce7o_Kv8"
   },
   "outputs": [
    {
     "data": {
      "text/plain": [
       "17"
      ]
     },
     "execution_count": 4,
     "metadata": {},
     "output_type": "execute_result"
    }
   ],
   "source": [
    "word = \"iAnalyst Infotech\"\n",
    "len(word)"
   ]
  },
  {
   "cell_type": "markdown",
   "metadata": {
    "id": "bCX_5t9FQEiK"
   },
   "source": [
    "4. Arrange string characters such that lowercase letters should come first.\n",
    "\n",
    "  Given an input string with the combination of the lower and upper case arrange characters in such a way that all lowercase letters should come first.\n",
    "  Given:\n",
    "\n",
    "   str1 = PyNaTive\n",
    "   \n",
    "  Expected Output: yaivePNT"
   ]
  },
  {
   "cell_type": "code",
   "execution_count": 10,
   "metadata": {
    "id": "Jpc59tdrQErT"
   },
   "outputs": [
    {
     "data": {
      "text/plain": [
       "['N', 'P', 'T', 'a', 'e', 'i', 'v', 'y']"
      ]
     },
     "execution_count": 10,
     "metadata": {},
     "output_type": "execute_result"
    }
   ],
   "source": [
    "str1 = \"PyNaTive\"\n",
    "sorted(str1)"
   ]
  },
  {
   "cell_type": "markdown",
   "metadata": {
    "id": "fIr78knbAB2K"
   },
   "source": [
    "## **List**\n",
    "\n",
    "1. Concate two lists.\n",
    "\n",
    "  one = [1,2,3]\n",
    "\n",
    "  two = [4,5,6]"
   ]
  },
  {
   "cell_type": "code",
   "execution_count": 7,
   "metadata": {
    "id": "WWYb2OdZALDt"
   },
   "outputs": [
    {
     "data": {
      "text/plain": [
       "[1, 2, 3, 4, 5, 6]"
      ]
     },
     "execution_count": 7,
     "metadata": {},
     "output_type": "execute_result"
    }
   ],
   "source": [
    "one = [1,2,3]\n",
    "two = [4,5,6]\n",
    "one+two"
   ]
  },
  {
   "cell_type": "markdown",
   "metadata": {
    "id": "FB8LAynAAoZV"
   },
   "source": [
    "2. Remove all element from the list.\n",
    "\n",
    "  list = [1,2,3,4,5,6]"
   ]
  },
  {
   "cell_type": "code",
   "execution_count": 8,
   "metadata": {
    "id": "y24bbJ4OPd7R"
   },
   "outputs": [
    {
     "data": {
      "text/plain": [
       "[]"
      ]
     },
     "execution_count": 8,
     "metadata": {},
     "output_type": "execute_result"
    }
   ],
   "source": [
    "list = [1,2,3,4,5,6]\n",
    "list.clear()\n",
    "list"
   ]
  },
  {
   "cell_type": "markdown",
   "metadata": {
    "id": "DmtS7oLFPeMH"
   },
   "source": [
    "3.  Given a Python list you should be able to display Python list in the following order.\n",
    "\n",
    "    aLsit = [100, 200, 300, 400, 500]\n",
    "    \n",
    "    Expected output:[500, 400, 300, 200, 100]"
   ]
  },
  {
   "cell_type": "code",
   "execution_count": 15,
   "metadata": {
    "id": "ZmuTbvTzPeU7"
   },
   "outputs": [
    {
     "data": {
      "text/plain": [
       "[500, 400, 300, 200, 100]"
      ]
     },
     "execution_count": 15,
     "metadata": {},
     "output_type": "execute_result"
    }
   ],
   "source": [
    "aLsit = [100, 200, 300, 400, 500]\n",
    "aLsit.reverse()\n",
    "aLsit"
   ]
  },
  {
   "cell_type": "markdown",
   "metadata": {
    "id": "nHGQdrPaBCQ5"
   },
   "source": [
    "# **Dictionary** \n",
    "\n",
    "1. Write a Python script to sum all the items in a dictionary.\n",
    "\n",
    "  Dict = {100,-54,247}"
   ]
  },
  {
   "cell_type": "code",
   "execution_count": 87,
   "metadata": {
    "id": "sXx5eLpFBG7P"
   },
   "outputs": [
    {
     "name": "stdout",
     "output_type": "stream",
     "text": [
      "293\n"
     ]
    }
   ],
   "source": [
    "Dict = {1:100,2:-54,3:247}\n",
    "sum=0\n",
    "for i in range(1,4):\n",
    "    sum = sum + Dict.get(i)\n",
    "print(sum)    "
   ]
  },
  {
   "cell_type": "markdown",
   "metadata": {
    "id": "JWYf4mlXCQDW"
   },
   "source": [
    "2. Write a Python Script to check a dictionary is empty or not."
   ]
  },
  {
   "cell_type": "code",
   "execution_count": 92,
   "metadata": {
    "id": "yYVXyOnPCY4z"
   },
   "outputs": [
    {
     "name": "stdout",
     "output_type": "stream",
     "text": [
      "Empty\n"
     ]
    }
   ],
   "source": [
    "d1 = {1:100,2:-54,3:247}\n",
    "d2={}\n",
    "if bool(d2) == False:\n",
    "    print(\"Empty\")\n",
    "else:\n",
    "    print(\"non empty\")"
   ]
  },
  {
   "cell_type": "markdown",
   "metadata": {
    "id": "Oxw1nuN6CZ1I"
   },
   "source": [
    "3. Write a Python script to add a key to a dictionary.\n",
    "\n",
    "  Sample Dictionary: {0:10, 1:20}\n",
    "  \n",
    "  Add dict : {3:30}\n"
   ]
  },
  {
   "cell_type": "code",
   "execution_count": 18,
   "metadata": {
    "id": "BbjhBNCXDTzX"
   },
   "outputs": [
    {
     "data": {
      "text/plain": [
       "{0: 10, 1: 20, 3: 30}"
      ]
     },
     "execution_count": 18,
     "metadata": {},
     "output_type": "execute_result"
    }
   ],
   "source": [
    "Dict =  {0:10, 1:20}\n",
    "Dict.update({3:30})\n",
    "Dict"
   ]
  },
  {
   "cell_type": "markdown",
   "metadata": {
    "id": "vGoBqLTwN85g"
   },
   "source": [
    "4. With a given integral number n, write a program to generate a dictionary that contains (i, i*i) such that is an integral number between 1 and n (both included). and then the program should print the dictionary.\n",
    "Suppose the following input is supplied to the program:\n",
    "8\n",
    "\n",
    "Then, the output should be:\n",
    "{1: 1, 2: 4, 3: 9, 4: 16, 5: 25, 6: 36, 7: 49, 8: 64}\n",
    "\n",
    "Hints:\n",
    "In case of input data being supplied to the question, it should be assumed to be a console input.\n",
    "Consider use dict()"
   ]
  },
  {
   "cell_type": "code",
   "execution_count": 28,
   "metadata": {
    "id": "ur_f8pmgOGO8"
   },
   "outputs": [
    {
     "name": "stdout",
     "output_type": "stream",
     "text": [
      "8\n"
     ]
    },
    {
     "data": {
      "text/plain": [
       "{1: 1, 2: 4, 3: 9, 4: 16, 5: 25, 6: 36, 7: 49, 8: 64}"
      ]
     },
     "execution_count": 28,
     "metadata": {},
     "output_type": "execute_result"
    }
   ],
   "source": [
    "a = int(input())\n",
    "d = dict()\n",
    "for i in range(1,a+1):\n",
    "    d.update({i:i*i})\n",
    "d    "
   ]
  },
  {
   "cell_type": "markdown",
   "metadata": {
    "id": "RiYjmVhNDW7M"
   },
   "source": [
    "# **Tuple** \n",
    " 1. Write a Program to find the repeated items of a Tuple.\n",
    "\n",
    "  Tuple = 2,4,5,6,7,4,8,4"
   ]
  },
  {
   "cell_type": "code",
   "execution_count": 106,
   "metadata": {
    "id": "Ec0LSI3cDveI"
   },
   "outputs": [
    {
     "name": "stdout",
     "output_type": "stream",
     "text": [
      "4\n",
      "4\n",
      "8\n",
      "4\n",
      "8\n"
     ]
    }
   ],
   "source": [
    "Tuple = (2,4,5,6,7,4,8,4,8)\n",
    "l=[]\n",
    "for i in Tuple:\n",
    "    if Tuple.count(i)>1:\n",
    "        l.append(i)\n",
    "while i         "
   ]
  },
  {
   "cell_type": "markdown",
   "metadata": {
    "id": "EGQw1dWJOmW5"
   },
   "source": [
    "2. Check if all items in the following tuple are the same.\n",
    "\n",
    "  tuple1 = (45, 45, 45, 45)\n",
    "\n",
    "  Expected output:True"
   ]
  },
  {
   "cell_type": "code",
   "execution_count": 60,
   "metadata": {
    "id": "DuQjWHuoOm1K"
   },
   "outputs": [
    {
     "name": "stdout",
     "output_type": "stream",
     "text": [
      "True\n"
     ]
    }
   ],
   "source": [
    "tuple1 = (45, 45, 45, 45, 45)\n",
    "a=0\n",
    "for i in range(len(tuple1)-1):\n",
    "    if tuple1[i] == tuple1[i+1]:\n",
    "        a=a+1\n",
    "if a==len(tuple1)-1:\n",
    "    print(True)\n",
    "else:\n",
    "    print(False)"
   ]
  },
  {
   "cell_type": "code",
   "execution_count": 53,
   "metadata": {},
   "outputs": [
    {
     "name": "stdout",
     "output_type": "stream",
     "text": [
      "0\n",
      "1\n",
      "2\n"
     ]
    }
   ],
   "source": [
    "tuple1 = (45, 45, 45, 45)\n",
    "for i in range(len(tuple1)-1):\n",
    "    print(i)"
   ]
  },
  {
   "cell_type": "markdown",
   "metadata": {
    "id": "Ci3Ho3HxPG11"
   },
   "source": [
    "3. Copy element 44 and 55 from the following tuple into a new tuple.\n",
    "\n",
    "    tuple1 = (11, 22, 33, 44, 55, 66)\n",
    "\n",
    "    Expected output:tuple2 = (44, 55)"
   ]
  },
  {
   "cell_type": "code",
   "execution_count": 41,
   "metadata": {
    "id": "DkmL-k8OPHAv"
   },
   "outputs": [
    {
     "data": {
      "text/plain": [
       "(44, 55)"
      ]
     },
     "execution_count": 41,
     "metadata": {},
     "output_type": "execute_result"
    }
   ],
   "source": [
    "tuple1 = (11, 22, 33, 44, 55, 66)\n",
    "tuple2 = (tuple1[3:5])\n",
    "tuple2"
   ]
  },
  {
   "cell_type": "markdown",
   "metadata": {
    "id": "1AGgmJXtFat8"
   },
   "source": [
    "# Condition Statement and loops \n",
    "1. Display -10 to -1 usning Loop ."
   ]
  },
  {
   "cell_type": "code",
   "execution_count": 61,
   "metadata": {
    "id": "SrFxBAcrEIaR"
   },
   "outputs": [
    {
     "name": "stdout",
     "output_type": "stream",
     "text": [
      "-10\n",
      "-9\n",
      "-8\n",
      "-7\n",
      "-6\n",
      "-5\n",
      "-4\n",
      "-3\n",
      "-2\n",
      "-1\n"
     ]
    }
   ],
   "source": [
    "for i in range(-10,0):\n",
    "    print(i)"
   ]
  },
  {
   "cell_type": "markdown",
   "metadata": {
    "id": "YD4PM4w0FyzK"
   },
   "source": [
    "2. Write a Python program to print Fibonacci series between 0-50."
   ]
  },
  {
   "cell_type": "code",
   "execution_count": 66,
   "metadata": {
    "id": "7VirkPt0Edps"
   },
   "outputs": [
    {
     "name": "stdout",
     "output_type": "stream",
     "text": [
      "0\n",
      "1\n",
      "1\n",
      "2\n",
      "3\n",
      "5\n",
      "8\n",
      "13\n",
      "21\n",
      "34\n"
     ]
    }
   ],
   "source": [
    "a = 0\n",
    "b = 1\n",
    "n = 50\n",
    "while a <= n:\n",
    "    print(a)\n",
    "    c = a + b\n",
    "    a = b\n",
    "    b = c"
   ]
  },
  {
   "cell_type": "markdown",
   "metadata": {
    "id": "47ec91CFM8EE"
   },
   "source": [
    "3. Exercise Question 3: Accept number from user and calculate the sum of all number between 1 and given number.\n",
    "\n",
    "For example user given 10 so the output should be 55"
   ]
  },
  {
   "cell_type": "code",
   "execution_count": 72,
   "metadata": {
    "id": "tbRjvcKTM9ka"
   },
   "outputs": [
    {
     "name": "stdout",
     "output_type": "stream",
     "text": [
      "10\n"
     ]
    },
    {
     "data": {
      "text/plain": [
       "55"
      ]
     },
     "execution_count": 72,
     "metadata": {},
     "output_type": "execute_result"
    }
   ],
   "source": [
    "n = int(input())\n",
    "l=[]\n",
    "for i in range(n+1):\n",
    "    l.append(i)\n",
    "sum(l)"
   ]
  },
  {
   "cell_type": "markdown",
   "metadata": {
    "id": "pprQdpIBHoFn"
   },
   "source": [
    "4. Print First 10 natural numbers using while loop . \n"
   ]
  },
  {
   "cell_type": "code",
   "execution_count": 73,
   "metadata": {
    "id": "T7RYiUWkGYvD"
   },
   "outputs": [
    {
     "name": "stdout",
     "output_type": "stream",
     "text": [
      "1\n",
      "2\n",
      "3\n",
      "4\n",
      "5\n",
      "6\n",
      "7\n",
      "8\n",
      "9\n",
      "10\n"
     ]
    }
   ],
   "source": [
    "i = 1\n",
    "n = 10\n",
    "while i <=10:\n",
    "    print(i)\n",
    "    i+=1"
   ]
  }
 ],
 "metadata": {
  "colab": {
   "collapsed_sections": [],
   "name": "Python Basic Exercises, String,Tuple,Lops,Function,Dict.ipynb",
   "private_outputs": true,
   "provenance": []
  },
  "kernelspec": {
   "display_name": "Python 3",
   "language": "python",
   "name": "python3"
  },
  "language_info": {
   "codemirror_mode": {
    "name": "ipython",
    "version": 3
   },
   "file_extension": ".py",
   "mimetype": "text/x-python",
   "name": "python",
   "nbconvert_exporter": "python",
   "pygments_lexer": "ipython3",
   "version": "3.7.4"
  }
 },
 "nbformat": 4,
 "nbformat_minor": 1
}
