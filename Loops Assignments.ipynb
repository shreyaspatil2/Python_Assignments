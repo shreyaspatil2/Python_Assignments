{
 "cells": [
  {
   "cell_type": "markdown",
   "metadata": {
    "id": "2MzEIlk_RNbf"
   },
   "source": [
    "# Question 1 \n",
    "Write a program which will find all such numbers which are divisible by 7   but are not a multiple of 5, between 2000 and 3200 (both included).The numbers obtained should be printed in a comma-separated sequence on a single line.\n",
    "## Hints : \n",
    "### Consider use range(#begin,#end)method.\n",
    "\n",
    "### Using for Loops"
   ]
  },
  {
   "cell_type": "code",
   "execution_count": 1,
   "metadata": {},
   "outputs": [
    {
     "name": "stdout",
     "output_type": "stream",
     "text": [
      "2002,2009,2016,2023,2037,2044,2051,2058,2072,2079,2086,2093,2107,2114,2121,2128,2142,2149,2156,2163,2177,2184,2191,2198,2212,2219,2226,2233,2247,2254,2261,2268,2282,2289,2296,2303,2317,2324,2331,2338,2352,2359,2366,2373,2387,2394,2401,2408,2422,2429,2436,2443,2457,2464,2471,2478,2492,2499,2506,2513,2527,2534,2541,2548,2562,2569,2576,2583,2597,2604,2611,2618,2632,2639,2646,2653,2667,2674,2681,2688,2702,2709,2716,2723,2737,2744,2751,2758,2772,2779,2786,2793,2807,2814,2821,2828,2842,2849,2856,2863,2877,2884,2891,2898,2912,2919,2926,2933,2947,2954,2961,2968,2982,2989,2996,3003,3017,3024,3031,3038,3052,3059,3066,3073,3087,3094,3101,3108,3122,3129,3136,3143,3157,3164,3171,3178,3192,3199\n"
     ]
    }
   ],
   "source": [
    "l=[]\n",
    "for i in range(2000,3201):\n",
    "    if i%7 == 0 and i%5 != 0:\n",
    "        l.append(str(i))\n",
    "print(','.join(l))"
   ]
  },
  {
   "cell_type": "markdown",
   "metadata": {
    "id": "PZt8JWjZRNbu"
   },
   "source": [
    "### Using generator and list comprehension."
   ]
  },
  {
   "cell_type": "code",
   "execution_count": 2,
   "metadata": {
    "id": "crRtH2R6RNbv",
    "outputId": "88854964-df32-4efd-8147-81e80c50e07a",
    "scrolled": true
   },
   "outputs": [
    {
     "name": "stdout",
     "output_type": "stream",
     "text": [
      "2002,2009,2016,2023,2037,2044,2051,2058,2072,2079,2086,2093,2107,2114,2121,2128,2142,2149,2156,2163,2177,2184,2191,2198,2212,2219,2226,2233,2247,2254,2261,2268,2282,2289,2296,2303,2317,2324,2331,2338,2352,2359,2366,2373,2387,2394,2401,2408,2422,2429,2436,2443,2457,2464,2471,2478,2492,2499,2506,2513,2527,2534,2541,2548,2562,2569,2576,2583,2597,2604,2611,2618,2632,2639,2646,2653,2667,2674,2681,2688,2702,2709,2716,2723,2737,2744,2751,2758,2772,2779,2786,2793,2807,2814,2821,2828,2842,2849,2856,2863,2877,2884,2891,2898,2912,2919,2926,2933,2947,2954,2961,2968,2982,2989,2996,3003,3017,3024,3031,3038,3052,3059,3066,3073,3087,3094,3101,3108,3122,3129,3136,3143,3157,3164,3171,3178,3192,3199\n"
     ]
    }
   ],
   "source": [
    "l=list(range(2002,3200,7))\n",
    "l2 = [str(a) for a in l if a%5 != 0]\n",
    "print(','.join(l2))"
   ]
  },
  {
   "cell_type": "markdown",
   "metadata": {
    "id": "IzOH_lKLRNbw"
   },
   "source": [
    "# Question 2\n",
    "Write a program which can compute the factorial of a given numbers.The results should be printed in a comma-separated sequence on a single line.Suppose the following input is supplied to the program: 8 Then, the output should be:40320\n",
    "    \n",
    "### HInts : In case of input data being supplied to the question, it should be assumed to be a console input.\n",
    "\n",
    "### Using While Loop."
   ]
  },
  {
   "cell_type": "code",
   "execution_count": 3,
   "metadata": {
    "id": "j-aqr7j_RNbw",
    "outputId": "fada75a0-5664-4e45-c3f9-4f961880b7f3"
   },
   "outputs": [
    {
     "name": "stdout",
     "output_type": "stream",
     "text": [
      "Enter a Number: 3\n",
      "3 , 6\n"
     ]
    }
   ],
   "source": [
    "n = int(input(\"Enter a Number: \"))\n",
    "f=i=1\n",
    "while i<=n:\n",
    "    f=i*f\n",
    "    i=i+1\n",
    "print(n,\",\",f)    "
   ]
  },
  {
   "cell_type": "markdown",
   "metadata": {
    "id": "pFfJBsyGRNbx"
   },
   "source": [
    "### Using For Loop."
   ]
  },
  {
   "cell_type": "code",
   "execution_count": 4,
   "metadata": {
    "id": "2PgjqDDDRNbx",
    "outputId": "86aa6e7c-9df5-4883-b6b1-b6a97736e010"
   },
   "outputs": [
    {
     "name": "stdout",
     "output_type": "stream",
     "text": [
      "Enter a Number:4\n",
      "4 , 24\n"
     ]
    }
   ],
   "source": [
    "n = int(input(\"Enter a Number:\"))\n",
    "f=1\n",
    "for i in range(1,n+1):\n",
    "    f=i*f\n",
    "print(n,\",\",f)"
   ]
  },
  {
   "cell_type": "markdown",
   "metadata": {
    "id": "pVH0IIw0RNbz"
   },
   "source": [
    "# Question 3 \n",
    "With a given integral number n, write a program to generate a dictionary that contains (i, i x i) such that is an integral number between 1 and n (both included). and then the program should print the dictionary.Suppose the following input is supplied to the program: 8\n",
    "\n",
    "Then, the output should be \n",
    "{1: 1, 2: 4, 3: 9, 4: 16, 5: 25, 6: 36, 7: 49, 8: 64}\n",
    "\n",
    "### Hints: In case of input data being supplied to the question, it should be assumed to be a console input.Consider use dict()\n",
    "\n",
    "#### Using For Loop\n"
   ]
  },
  {
   "cell_type": "code",
   "execution_count": 5,
   "metadata": {
    "id": "OpjMp1R1RNbz",
    "outputId": "f335b7cb-09e4-49a3-cafb-0ab9e27f096b"
   },
   "outputs": [
    {
     "name": "stdout",
     "output_type": "stream",
     "text": [
      "8\n",
      "{1: 1, 2: 4, 3: 9, 4: 16, 5: 25, 6: 36, 7: 49, 8: 64}\n"
     ]
    }
   ],
   "source": [
    "n = int(input())\n",
    "d = {}\n",
    "for i in range(1,n+1):\n",
    "    d[i] = i*i\n",
    "print(d)"
   ]
  },
  {
   "cell_type": "markdown",
   "metadata": {
    "id": "YM5tS8G-RNb0"
   },
   "source": [
    "### Using dictionary comprehension"
   ]
  },
  {
   "cell_type": "code",
   "execution_count": 6,
   "metadata": {
    "id": "1whOwDdTRNb0",
    "outputId": "779cb9da-88b2-46ab-8291-56dd06849a8b"
   },
   "outputs": [
    {
     "name": "stdout",
     "output_type": "stream",
     "text": [
      "9\n",
      "{1: 1, 2: 4, 3: 9, 4: 16, 5: 25, 6: 36, 7: 49, 8: 64, 9: 81}\n"
     ]
    }
   ],
   "source": [
    "n = int(input())\n",
    "d = {i:i*i for i in range(1,n+1)}\n",
    "print(d)"
   ]
  },
  {
   "cell_type": "markdown",
   "metadata": {
    "id": "5_uyfPbiRNb1"
   },
   "source": [
    "# Question 4\n",
    "Write a program which accepts a sequence of comma-separated numbers from console and generate a list and a tuple which contains every number.Suppose the following input is supplied to the program: 34,67,55,33,12,98\n",
    "\n",
    "Then, the output should be:\n",
    "\n",
    "['34', '67', '55', '33', '12', '98']\n",
    "\n",
    "('34', '67', '55', '33', '12', '98')\n",
    "\n",
    "### Hints: In case of input data being supplied to the question, it should be assumed to be a console input.tuple() method can convert list to tuple"
   ]
  },
  {
   "cell_type": "code",
   "execution_count": 7,
   "metadata": {
    "id": "3YjHJPkURNb1",
    "outputId": "84e7bbf3-af6f-4107-ce33-f824cbd2e657"
   },
   "outputs": [
    {
     "name": "stdout",
     "output_type": "stream",
     "text": [
      "34,67,55,33,12,98\n",
      "['34', '67', '55', '33', '12', '98']\n"
     ]
    }
   ],
   "source": [
    "n = input()\n",
    "l = n.split(\",\")\n",
    "print(l)"
   ]
  },
  {
   "cell_type": "code",
   "execution_count": 8,
   "metadata": {
    "id": "8VLn5fmGRNb2",
    "outputId": "c7f4f97b-2d01-47bb-eb4d-2089f16d9087"
   },
   "outputs": [
    {
     "name": "stdout",
     "output_type": "stream",
     "text": [
      "34,67,55,33,12,98\n",
      "('34', '67', '55', '33', '12', '98')\n"
     ]
    }
   ],
   "source": [
    "n = input()\n",
    "t= tuple(n.split(\",\"))\n",
    "print(t)"
   ]
  },
  {
   "cell_type": "markdown",
   "metadata": {
    "id": "A5yReurTRNb2"
   },
   "source": [
    "# Question 5\n",
    "#### Define a class which has at least two methods:\n",
    "1. getString: to get a string from console input.\n",
    "2. printString: to print the string in upper case.\n",
    "\n",
    "Also please include simple test function to test the class methods.\n",
    "\n",
    "#### Hints: Use init method to construct some parameters"
   ]
  },
  {
   "cell_type": "code",
   "execution_count": null,
   "metadata": {
    "id": "TCCb1IUVRNb3",
    "outputId": "c7ea33b1-84f2-4977-962f-c96f9af978ed"
   },
   "outputs": [
    {
     "name": "stdout",
     "output_type": "stream",
     "text": [
      "abcdef\n",
      "ABCDEF\n"
     ]
    }
   ],
   "source": []
  },
  {
   "cell_type": "markdown",
   "metadata": {
    "id": "QSOpgOW1RNb4"
   },
   "source": [
    "# Question:\n",
    "Write a program that calculates and prints the value according to the given formula:\n",
    "\n",
    "Q = Square root of [(2 _ C _ D)/H]\n",
    "\n",
    "Following are the fixed values of C and H: C is 50. H is 30.\n",
    "\n",
    "D is the variable whose values should be input to your program in a comma-separated sequence.For example Let us assume the following comma separated input sequence is given to the program: 100,150,180\n",
    "\n",
    "The output of the program should be: 18,22,24\n",
    "    \n",
    "#### Hints: If the output received is in decimal form, it should be rounded off to its nearest value (for example, if the output received is 26.0, it should be printed as 26).In case of input data being supplied to the question, it should be assumed to be a console input."
   ]
  },
  {
   "cell_type": "code",
   "execution_count": 9,
   "metadata": {
    "id": "7IoEuzO7RNb5",
    "outputId": "98a4f296-0a41-47b6-d5db-93560a3dda83"
   },
   "outputs": [
    {
     "name": "stdout",
     "output_type": "stream",
     "text": [
      "100,150,180\n",
      "18,22,24\n"
     ]
    }
   ],
   "source": [
    "import math\n",
    "C = 50\n",
    "H = 30\n",
    "n = input()\n",
    "D = n.split(\",\")\n",
    "f = []\n",
    "for i in D:\n",
    "    f.append(str(round(math.sqrt((2*C*int(i))/H))))\n",
    "print(','.join(f))          "
   ]
  },
  {
   "cell_type": "markdown",
   "metadata": {
    "id": "NJFrmzNWRNb5"
   },
   "source": [
    "# Question:\n",
    "Write a program which takes 2 digits, X,Y as input and generates a 2-dimensional array. The element value in the i-th row and j-th column of the array should be i _ j.*\n",
    "\n",
    "Note: i=0,1.., X-1; j=0,1,¡­Y-1. Suppose the following inputs are given to the program: 3,5\n",
    "\n",
    "Then, the output of the program should be: [[0, 0, 0, 0, 0], [0, 1, 2, 3, 4], [0, 2, 4, 6, 8]]\n",
    "    \n",
    "#### Hints: In case of input data being supplied to the question, it should be assumed to be a console input in a comma-separated form."
   ]
  },
  {
   "cell_type": "code",
   "execution_count": 10,
   "metadata": {
    "id": "4_K3wYL8RNb5",
    "outputId": "a7c72b3d-b24b-43fc-a3fc-ca88341ef618"
   },
   "outputs": [
    {
     "name": "stdout",
     "output_type": "stream",
     "text": [
      "Input number of rows: 3\n",
      "Input number of columns: 5\n",
      "[[0, 0, 0, 0, 0], [0, 1, 2, 3, 4], [0, 2, 4, 6, 8]]\n"
     ]
    }
   ],
   "source": [
    "rows = int(input(\"Input number of rows: \"))\n",
    "cols = int(input(\"Input number of columns: \"))\n",
    "l = [[0 for j in range(cols)] for i in range(rows)]\n",
    "for i in range(rows):\n",
    "    for j in range(cols):\n",
    "        l[i][j]= i*j\n",
    "print(l)"
   ]
  },
  {
   "cell_type": "markdown",
   "metadata": {
    "id": "BVL6bJhTRNb6"
   },
   "source": [
    "# Question:\n",
    "Write a program that accepts sequence of lines as input and prints the lines after making all characters in the sentence capitalized.\n",
    "\n",
    "Suppose the following input is supplied to the program: \n",
    "   [ Hello world Practice makes perfect]\n",
    "    \n",
    "Then, the output should be:  [ HELLO WORLD PRACTICE MAKES PERFECT ] \n",
    "\n",
    "#### Hints: In case of input data being supplied to the question, it should be assumed to be a console input."
   ]
  },
  {
   "cell_type": "code",
   "execution_count": 11,
   "metadata": {
    "id": "q9xogtuJRNb7",
    "outputId": "36918d8f-1a01-4e2c-ce9d-6019f82b5991"
   },
   "outputs": [
    {
     "name": "stdout",
     "output_type": "stream",
     "text": [
      "Hello world Practice makes perfect\n"
     ]
    },
    {
     "data": {
      "text/plain": [
       "'HELLO WORLD PRACTICE MAKES PERFECT'"
      ]
     },
     "execution_count": 11,
     "metadata": {},
     "output_type": "execute_result"
    }
   ],
   "source": [
    "a = input()\n",
    "a.upper()"
   ]
  },
  {
   "cell_type": "code",
   "execution_count": 12,
   "metadata": {
    "id": "t51LEcw-RNb8"
   },
   "outputs": [
    {
     "name": "stdout",
     "output_type": "stream",
     "text": [
      "Hello world Practice makes perfect\n",
      "HELLO WORLD PRACTICE MAKES PERFECT\n"
     ]
    }
   ],
   "source": [
    "s = input()\n",
    "a = []\n",
    "for i in s:\n",
    "    a.append(i.upper())\n",
    "print(\"\".join(a))"
   ]
  },
  {
   "cell_type": "markdown",
   "metadata": {
    "id": "DtYGa01QSurV"
   },
   "source": [
    "# Question:\n",
    "Write a program that accepts a sentence and calculate the number of letters and digits.\n",
    "\n",
    "Suppose the following input is supplied to the program :- hello world! 123 \n",
    "\n",
    "Then, the output should be:\n",
    "\n",
    "Letters 10\n",
    "\n",
    "Digits 3\n",
    "\n",
    "### Hints : In case of input data being supplied to the question, it should be assumed to be a console input.\n",
    "\n"
   ]
  },
  {
   "cell_type": "code",
   "execution_count": 13,
   "metadata": {
    "colab": {
     "base_uri": "https://localhost:8080/"
    },
    "id": "rmqxEJ_CRNb8",
    "outputId": "7c987a28-df2b-4bf0-f255-bd8e097860ad"
   },
   "outputs": [
    {
     "name": "stdout",
     "output_type": "stream",
     "text": [
      "Input a String :hello world! 123\n",
      "letters 10\n",
      "digits 3\n"
     ]
    }
   ],
   "source": [
    "s = input(\"Input a String :\")\n",
    "d=l=0\n",
    "for i in s:\n",
    "    if i.isalpha():\n",
    "        l = l+1\n",
    "    elif i.isdigit():\n",
    "        d = d+1\n",
    "    else:\n",
    "        pass\n",
    "print(\"letters\", l)\n",
    "print(\"digits\", d)"
   ]
  },
  {
   "cell_type": "markdown",
   "metadata": {
    "id": "qXmXy-Oab22x"
   },
   "source": [
    "# Question:\n",
    "Write a program that computes the value of a+aa+aaa+aaaa with a given digit as the value of a.\n",
    "\n",
    "Suppose the following input is supplied to the program : - 9\n",
    "\n",
    "Then, the output should be:- 11106\n",
    "\n",
    "### Hints: In case of input data being supplied to the question, it should be assumed to be a console input."
   ]
  },
  {
   "cell_type": "code",
   "execution_count": 14,
   "metadata": {
    "colab": {
     "base_uri": "https://localhost:8080/"
    },
    "id": "D9YMPDdWb5gF",
    "outputId": "d38dfac7-1b90-43fe-e4c2-2265bf8d1e3c"
   },
   "outputs": [
    {
     "name": "stdout",
     "output_type": "stream",
     "text": [
      "9\n",
      "11106\n"
     ]
    }
   ],
   "source": [
    "n = input()\n",
    "n1 = n\n",
    "f = int(n1)\n",
    "for i in range(1,4):\n",
    "    n = n+n1\n",
    "    v = int(n)\n",
    "    f = f + v \n",
    "print(f)"
   ]
  },
  {
   "cell_type": "markdown",
   "metadata": {
    "id": "YsqUyLm-ctY2"
   },
   "source": [
    "# Question:\n",
    "Write a program that computes the net amount of a bank account based a transaction log from console input. The transaction log format is shown as following: \n",
    "\n",
    "D 100\n",
    "\n",
    "W 200\n",
    "\n",
    "D means deposit while W means withdrawal.\n",
    "\n",
    "Suppose the following input is supplied to the program: \n",
    "\n",
    "D 300\n",
    "\n",
    "D 300\n",
    "\n",
    "W 200\n",
    "\n",
    "D 100\n",
    "\n",
    "Output should be :-  500\n",
    "\n",
    "### Hints: In case of input data being supplied to the question, it should be assumed to be a console input."
   ]
  },
  {
   "cell_type": "code",
   "execution_count": 15,
   "metadata": {},
   "outputs": [
    {
     "name": "stdout",
     "output_type": "stream",
     "text": [
      "D 5000\n",
      "Your current balance is: 5000\n",
      "w 2000\n",
      "Enter D or W\n",
      "W 2000\n",
      "Your current balance is: 3000\n",
      "D500\n",
      "Enter a space after D or W\n",
      "D 500\n",
      "Your current balance is: 3500\n",
      "\n"
     ]
    }
   ],
   "source": [
    "o = 0\n",
    "for i in range(100):\n",
    "    n = input()\n",
    "    if n == \"\":\n",
    "        break\n",
    "    if n[1] != \" \":\n",
    "        print(\"Enter a space after D or W\")\n",
    "        continue\n",
    "    a = n[0]\n",
    "    if a!=\"D\" and a!=\"W\":\n",
    "        print(\"Enter D or W\")\n",
    "        continue\n",
    "    v = int(n[2:])\n",
    "    if a == \"D\":\n",
    "        o=o+v\n",
    "    elif a == \"W\":\n",
    "        o=o-v\n",
    "    print(\"Your current balance is:\",o)"
   ]
  },
  {
   "cell_type": "markdown",
   "metadata": {
    "id": "Y8rnoacVginm"
   },
   "source": [
    "# Question:\n",
    "A website requires the users to input username and password to register. Write a program to check the validity of password input by users.\n",
    "\n",
    "Following are the criteria for checking the password:\n",
    "\n",
    "* At least 1 letter between [a-z]\n",
    "* At least 1 number between [0-9]\n",
    "* At least 1 letter between [A-Z]\n",
    "* At least 1 character from [$#@]\n",
    "* Minimum length of transaction password: 6\n",
    "* Maximum length of transaction password: 12\n",
    "\n",
    "Your program should accept a sequence of comma separated passwords and will check them according to the above criteria. Passwords that match the criteria are to be printed, each separated by a comma.\n",
    "\n",
    "#### Example\n",
    "\n",
    "If the following passwords are given as input to the program:  [ ABd1234@1,  aF1#,2w3E*,  2We3345 ]\n",
    "\n",
    "Then, the output of the program should be:   [ABd1234@1]\n",
    "\n",
    "### Hints: In case of input data being supplied to the question, it should be assumed to be a console input.\n",
    "\n"
   ]
  },
  {
   "cell_type": "code",
   "execution_count": null,
   "metadata": {
    "id": "z9a-Vf3agueS"
   },
   "outputs": [],
   "source": []
  }
 ],
 "metadata": {
  "accelerator": "GPU",
  "colab": {
   "name": "Assignments Python Loops .ipynb",
   "provenance": []
  },
  "kernelspec": {
   "display_name": "Python 3",
   "language": "python",
   "name": "python3"
  },
  "language_info": {
   "codemirror_mode": {
    "name": "ipython",
    "version": 3
   },
   "file_extension": ".py",
   "mimetype": "text/x-python",
   "name": "python",
   "nbconvert_exporter": "python",
   "pygments_lexer": "ipython3",
   "version": "3.7.4"
  }
 },
 "nbformat": 4,
 "nbformat_minor": 1
}
